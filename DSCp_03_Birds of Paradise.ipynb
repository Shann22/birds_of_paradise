{
 "cells": [
  {
   "cell_type": "markdown",
   "id": "978ce39d",
   "metadata": {},
   "source": [
    "### Prep course (DSCP 3.2)"
   ]
  },
  {
   "cell_type": "markdown",
   "id": "d4ae64f5",
   "metadata": {},
   "source": [
    "Birds of Paradise: a Pythonic Photography Adventure\n",
    "\n",
    "You’re on safari in the most dense, remote part of the South American rainforest as a zoologist.\n",
    "\n",
    "You’re looking for a number of birds of paradise whose rarity, elusiveness and ferociousness means they’ve never before been photographed.\n",
    "\n",
    "In order to get good photographs of these birds, you have a photographer with you; she’s carrying a very large and expensive camera. It’s your job to creep ahead of the photographer, using your binoculars intermittently, and, once you see one of the birds, remain perfectly still, and communicate to your photographer: a. Which bird it is, and b. Where the bird is, so she can photograph it.\n",
    "\n",
    "Your method of communication needs to be fast and perfectly silent. These birds are conditioned to pick out the voices of potential predators easily, and will disappear if they hear you speak. Are you ready? Go to the next page to check out the birds we're looking for.\n",
    "\n",
    "Here are the magical birds we want photographs of:\n",
    "\n",
    "Name\t                Height (m)\tWeight (kg)\tColour\t        Endangered\tAggressive\n",
    "Gold-crested Toucan\t    1.1\t        35\t        Gold\t        True\t    True\n",
    "Pearlescent Kingfisher\t0.25\t    0.5\t        White\t        False\t    False\n",
    "Four-metre Hummingbird\t0.6\t        0.5\t        Blue\t        True\t    False\n",
    "Giant Eagle\t            1.5\t        52\t        Black and White\tTrue\t    True\n",
    "Ancient Vulture\t        2.1\t        70\t        Brown\t        False\t    False\n",
    "\n",
    "\n",
    "The first task below is to make a dictionary called rarebirds whose keys are the names of the birds above, and whose values are themselves dictionaries with the keys: Height (m), Weight (kg), Colour, Endangered, Aggressive. We'll get you started on how this would look, and you can complete it:\n",
    "\n",
    "rarebirds = {\n",
    "    'Gold-crested Toucan': {\n",
    "        'Height (m)': 1.1,\n",
    "        'Weight (kg)': 35,\n",
    "        'Color': 'Gold',\n",
    "        'Endangered': True,\n",
    "        'Aggressive': True},\n",
    "'Pearlescent Kingfisher': {\n",
    "        .\n",
    "        .\n",
    "        .\n",
    "    }\n",
    "}"
   ]
  },
  {
   "cell_type": "markdown",
   "id": "f954fc2d",
   "metadata": {},
   "source": [
    "Task 1:\n",
    "Make a dictionary called rarebirds that summarises our data as demonstrated above."
   ]
  },
  {
   "cell_type": "code",
   "execution_count": 1,
   "id": "9be3665b",
   "metadata": {},
   "outputs": [],
   "source": [
    "rarebirds = {\n",
    "    'Gold-crested Toucan': {\n",
    "        'Height (m)': 1.1,\n",
    "        'Weight (kg)': 35,\n",
    "        'Color': 'Gold',\n",
    "        'Endangered': True,\n",
    "        'Aggressive': True},\n",
    "    'Pearlescent Kingfisher': {\n",
    "        'Height (m)': 0.25,\n",
    "        'Weight (kg)': 0.5,\n",
    "        'Color': 'White',\n",
    "        'Endangered': False,\n",
    "        'Aggressive': False},\n",
    "    'Four-metre Hummingbird': {\n",
    "        'Height (m)': 0.6,\n",
    "        'Weight (kg)': 0.5,\n",
    "        'Color': 'Blue',\n",
    "        'Endangered': True,\n",
    "        'Aggressive': False},\n",
    "    'Giant Eagle': {\n",
    "        'Height (m)': 1.5,\n",
    "        'Weight (kg)': 52,\n",
    "        'Color': 'Black and White',\n",
    "        'Endangered': True,\n",
    "        'Aggressive': True},\n",
    "    'Ancient Vulture': {\n",
    "        'Height (m)': 2.1,\n",
    "        'Weight (kg)': 70,\n",
    "        'Color': 'Brown',\n",
    "        'Endangered': False,\n",
    "        'Aggressive': False},\n",
    "}"
   ]
  },
  {
   "cell_type": "markdown",
   "id": "960dfe88",
   "metadata": {},
   "source": [
    "We need to make some preparations. Communication with our photographer needs to be lightning fast and silent. All these birds are either very aggressive, endangered, or easily scared and will quickly disappear.\n",
    "\n",
    "We need to make:\n",
    "\n",
    "A list of possible locations\n",
    "Codes for those locations that can be communicated silently to our photographer\n",
    "A list of possible actions.\n",
    "\n",
    "Task 2:\n",
    "\n",
    "If you spot a bird, you need a very simple way of telling your photographer where it is.\n",
    "\n",
    "Make a list called birdlocation with the following 7 elements (made into strings):\n",
    "\n",
    " In the canopy directly above our heads.\n",
    " Between my 6 and 9 o’clock above.\n",
    " Between my 9 and 12 o’clock above.\n",
    " Between my 12 and 3 o’clock above.\n",
    " Between my 3 and 6 o’clock above.\n",
    " In a nest on the ground.\n",
    " Right behind you.\n",
    "Note: provided you use commas in the right places, you can declare a list over multiple lines, which makes its elements easier to read.\n",
    "\n",
    "The last location is necessary because, for reasons no zoologist yet understands, the terrifying, ancient vulture sometimes stalks potential prey from behind with a fearsome confidence."
   ]
  },
  {
   "cell_type": "code",
   "execution_count": 2,
   "id": "282d5ebe",
   "metadata": {},
   "outputs": [],
   "source": [
    "birdlocation = [\n",
    "    \"In the canopy directly above our heads.\",\n",
    "    \"Between my 6 and 9 o’clock above.\",\n",
    "    \"Between my 9 and 12 o’clock above.\",\n",
    "    \"Between my 12 and 3 o’clock above.\",\n",
    "    \"Between my 3 and 6 o’clock above.\",\n",
    "    \"In a nest on the ground.\",\n",
    "    \"Right behind you.\"\n",
    "]"
   ]
  },
  {
   "cell_type": "markdown",
   "id": "bf203907",
   "metadata": {},
   "source": [
    "Task 3:\n",
    "\n",
    "Because you won’t be able to communicate these descriptions verbally, you need to encode them with binary code.\n",
    "\n",
    "You’ll be using either coin flips, flashlight flashes, or simply Morse code tapped out onto your own hand that your photographer colleague reads. Choose your favourite binary system for this situation: it makes no difference.\n",
    "\n",
    "Write a dictionary called codes whose keys are the binary codes (of length 3) - written either ‘HHH’ or ‘111’, depending on the system you’ve chosen - and whose values are the members of birdlocation. If this isn't making sense, check out the binary resource we've prepared for you.\n",
    "\n",
    "Note: there are 8 possible binary codes of length 3:\n",
    "\n",
    "111\n",
    "110\n",
    "101\n",
    "100\n",
    "011\n",
    "010\n",
    "001\n",
    "000\n",
    "\n",
    "so you won’t be using one of them. It’s up to you which one you don’t use (but perhaps it’s harder to convey ‘000’ than ‘111’, so ‘000’ is a good candidate for being dropped)!"
   ]
  },
  {
   "cell_type": "code",
   "execution_count": 3,
   "id": "8cde255c",
   "metadata": {},
   "outputs": [],
   "source": [
    "codes = {\n",
    "    '111': birdlocation[0], \n",
    "    '110': birdlocation[1], \n",
    "    '101': birdlocation[2], \n",
    "    '100': birdlocation[3], \n",
    "    '011': birdlocation[4],\n",
    "    '010': birdlocation[5],\n",
    "    '001': birdlocation[6]\n",
    "}"
   ]
  },
  {
   "cell_type": "markdown",
   "id": "a9932bc7",
   "metadata": {},
   "source": [
    "Task 4:\n",
    "\n",
    "If we see one of these birds, it'll be easy to panic. Some of them have only been ever spoken about in myths or legends. It's not known, for example, whether the enormous, dinosaur-like Gold-crested Toucan really exists.\n",
    "\n",
    "As a result, we need a list of actions that will reduce our options for us in moments of panic.\n",
    "\n",
    "Make a list called actions, containing the following strings: 'Back Away’, 'Cover our Heads','‘Take a Photograph'."
   ]
  },
  {
   "cell_type": "code",
   "execution_count": 4,
   "id": "74929474",
   "metadata": {},
   "outputs": [],
   "source": [
    "actions = ['Back Away', 'Cover our Heads', 'Take a Photograph']"
   ]
  },
  {
   "cell_type": "markdown",
   "id": "7c55b632",
   "metadata": {},
   "source": [
    "You're in thick, impenetrable jungle; the air is thick and humid, the noise of the insects constant, and the canopy overhead an intoxicating labyrinth of fecund colours.\n",
    "\n",
    "Your photographer colleague wipes sweat from her brow. She wants to ask you a question.\n",
    "\n",
    "Task 5:\n",
    "\n",
    "Your photographer has heard that the Giant Eagle has killed adult gorillas before. She wants to know if it's aggressive.\n",
    "\n",
    "Using your rarebirds dictionary, print out the Giant Eagle’s value for the \"Aggressive\" key within the nested dictionary (hint: you should be printing out the Boolean True)."
   ]
  },
  {
   "cell_type": "code",
   "execution_count": 5,
   "id": "32302765",
   "metadata": {},
   "outputs": [
    {
     "name": "stdout",
     "output_type": "stream",
     "text": [
      "True\n"
     ]
    }
   ],
   "source": [
    "print(rarebirds['Giant Eagle']['Aggressive'])"
   ]
  },
  {
   "cell_type": "markdown",
   "id": "c109282c",
   "metadata": {},
   "source": [
    "Task 6:\n",
    "\n",
    "Your colleague is now nervous, and you’re even more so. She wants the low-down on the rest of the birds you may encounter.\n",
    "\n",
    "Using a for loop that goes through the keys and the values of your rarebirds dictionary:\n",
    "\n",
    "Print out a string specifying the names of all the birds we’re looking for.\n",
    "If a bird is aggressive, print out a string advising us to cover our heads. Make use of the actions list in this print statement.\n",
    "If a bird is endangered, print out a string advising us to back away. Make use of the actions list in this print statement."
   ]
  },
  {
   "cell_type": "code",
   "execution_count": 6,
   "id": "356cb5c8",
   "metadata": {},
   "outputs": [
    {
     "name": "stdout",
     "output_type": "stream",
     "text": [
      "Gold-crested Toucan\n",
      "Cover our Heads\n",
      "Back Away\n",
      "Pearlescent Kingfisher\n",
      "Four-metre Hummingbird\n",
      "Back Away\n",
      "Giant Eagle\n",
      "Cover our Heads\n",
      "Back Away\n",
      "Ancient Vulture\n"
     ]
    }
   ],
   "source": [
    "for k in rarebirds:\n",
    "    print(k)\n",
    "    if rarebirds[k]['Aggressive']:\n",
    "        print(actions[1])\n",
    "    if rarebirds[k]['Endangered']:\n",
    "        print(actions[0])"
   ]
  },
  {
   "cell_type": "markdown",
   "id": "ad59d0e9",
   "metadata": {},
   "source": [
    "Task 7:\n",
    "\n",
    "Your photographer wants a reminder of what the binary codes that you've come up with mean.\n",
    "\n",
    "Using a for loop, iterate through the keys and the values of the codes dictionary.\n",
    "\n",
    "Print out a statement that specifies what each code means."
   ]
  },
  {
   "cell_type": "code",
   "execution_count": 7,
   "id": "f55c433e",
   "metadata": {},
   "outputs": [
    {
     "name": "stdout",
     "output_type": "stream",
     "text": [
      "111: In the canopy directly above our heads.\n",
      "110: Between my 6 and 9 o’clock above.\n",
      "101: Between my 9 and 12 o’clock above.\n",
      "100: Between my 12 and 3 o’clock above.\n",
      "011: Between my 3 and 6 o’clock above.\n",
      "010: In a nest on the ground.\n",
      "001: Right behind you.\n"
     ]
    }
   ],
   "source": [
    "for code in codes:\n",
    "    print(f'{code}: {codes[code]}')"
   ]
  },
  {
   "cell_type": "markdown",
   "id": "b7a99fea",
   "metadata": {},
   "source": [
    "An hour has passed. The sun’s risen to its highest point and it’s become swelteringly hot in the jungle. You’re now deep into the habitat of these rare birds and you haven’t seen anything.\n",
    "\n",
    "Task 8:\n",
    "\n",
    "Using a for loop, add an extra bird attribute (to go with with height, weight, etc) called 'seen', and set its value to False for all birds."
   ]
  },
  {
   "cell_type": "code",
   "execution_count": 8,
   "id": "be38a0eb",
   "metadata": {},
   "outputs": [
    {
     "name": "stdout",
     "output_type": "stream",
     "text": [
      "{'Gold-crested Toucan': {'Height (m)': 1.1, 'Weight (kg)': 35, 'Color': 'Gold', 'Endangered': True, 'Aggressive': True, 'seen': False}, 'Pearlescent Kingfisher': {'Height (m)': 0.25, 'Weight (kg)': 0.5, 'Color': 'White', 'Endangered': False, 'Aggressive': False, 'seen': False}, 'Four-metre Hummingbird': {'Height (m)': 0.6, 'Weight (kg)': 0.5, 'Color': 'Blue', 'Endangered': True, 'Aggressive': False, 'seen': False}, 'Giant Eagle': {'Height (m)': 1.5, 'Weight (kg)': 52, 'Color': 'Black and White', 'Endangered': True, 'Aggressive': True, 'seen': False}, 'Ancient Vulture': {'Height (m)': 2.1, 'Weight (kg)': 70, 'Color': 'Brown', 'Endangered': False, 'Aggressive': False, 'seen': False}}\n"
     ]
    }
   ],
   "source": [
    "for k in rarebirds:\n",
    "    rarebirds[k]['seen'] = False\n",
    "    \n",
    "print(rarebirds)"
   ]
  },
  {
   "cell_type": "markdown",
   "id": "ee134da7",
   "metadata": {},
   "source": [
    "A flash of unearthly colour. A sound you've never heard before. Something moving that seems otherworldly, strange, like an alien or an angel. Something’s happening.\n",
    "\n",
    "The user of your program, ultimately, will get to decide what happens.\n",
    "\n",
    "This page will get a lot of things happening: each task will be simple, but there'll be quite a few of them. Keep at it.\n",
    "\n",
    "Task 9:\n",
    "\n",
    "Make a new variable called encounter, and set its value to True.\n",
    "\n",
    "\n",
    "Task 10:\n",
    "\n",
    "Ask the user for an input, and give them the prompt: ‘What do you see?’. Store this input in a variable called sighting.\n",
    "\n",
    "Make this input all lowercase with a built-in function.\n",
    "\n",
    "\n",
    "Task 11:\n",
    "\n",
    "Make a list called rarebirdsList of the names of the rare birds, using your dictionary rarebirds and the built-in method keys().\n",
    "\n",
    "\n",
    "Task 12:\n",
    "\n",
    "Write some code that checks whether the sighting is in rarebirdsList. If it isn’t, print out the statement: “that’s not one of the birds we’re looking for”.\n",
    "\n",
    "If it is, print out the statement: “this is one of the birds we’re looking for!”"
   ]
  },
  {
   "cell_type": "code",
   "execution_count": 9,
   "id": "68f86dfc",
   "metadata": {},
   "outputs": [
    {
     "name": "stdout",
     "output_type": "stream",
     "text": [
      "What do you see?giant eagle\n",
      "giant eagle\n",
      "this is one of the birds we’re looking for!\n"
     ]
    }
   ],
   "source": [
    "encounter = True\n",
    "\n",
    "sighting = input('What do you see?').lower()\n",
    "print(sighting)\n",
    "\n",
    "rarebirdsList = [bird.lower() for bird in rarebirds.keys()]\n",
    "\n",
    "if sighting in rarebirdsList:\n",
    "    print('this is one of the birds we’re looking for!')\n",
    "else:\n",
    "    print('that’s not one of the birds we’re looking for.')"
   ]
  },
  {
   "cell_type": "markdown",
   "id": "d8338938",
   "metadata": {},
   "source": [
    "You're bristling with excitement. You need to find out the location of the sighting from the user, and call upon the code system you came up with earlier to communicate to your photographer where the sighting is.\n",
    "\n",
    "Task 13:\n",
    "\n",
    "Ask the user for another input, with the prompt: ‘Where do you see it? Input the correct code.’, and store this input in a variable called code.\n",
    "\n",
    "\n",
    "Task 14:\n",
    "\n",
    "Make a new variable called location that gets the correct location from the dictionary codes using the key code.\n",
    "\n",
    "You can do this in a single assignment, looking like:\n",
    "\n",
    "location = codes[code]\n",
    "\n",
    "Task 15:\n",
    "\n",
    "Make a printout summarizing which bird has been seen and its location, making use of the variables sighting and location.\n",
    "\n",
    "This could look like:\n",
    "\n",
    "print(\"So you've seen a\", sighting, location, \"My goodness.\")"
   ]
  },
  {
   "cell_type": "code",
   "execution_count": 10,
   "id": "20a94b4d",
   "metadata": {},
   "outputs": [
    {
     "name": "stdout",
     "output_type": "stream",
     "text": [
      "Where do you see it? Input the correct code. 111\n",
      "So you've seen a giant eagle In the canopy directly above our heads. My goodness.\n"
     ]
    }
   ],
   "source": [
    "code = input('Where do you see it? Input the correct code. ')\n",
    "location = codes[code]\n",
    "print(\"So you've seen a\", sighting, location, \"My goodness.\")"
   ]
  },
  {
   "cell_type": "markdown",
   "id": "64000a7b",
   "metadata": {},
   "source": [
    "Task 16:\n",
    "\n",
    "Let's do some more logic. Make an if, elif, and else statement.\n",
    "\n",
    "In the if-statement, check whether the sighting is aggressive. If it is, print out that it’s aggressive, and that we need to back away and cover our heads. In addition, print out that we need to photograph the sighting at its location.\n",
    "\n",
    "In the elif-statement, check whether the sighting is endangered. If it is, print out that it’s endangered, and that we need to back away. Also, print out that we need to photograph the sighting at its location.\n",
    "\n",
    "In the else statement (i.e, the sighting is neither aggressive nor endangered) print out that we need to photograph the ultra rare sighting at its location.\n",
    "\n",
    "In all of these blocks, make use of the actions list and the variables sighting and location in your printouts.\n",
    "\n",
    "\n",
    "Task 17:\n",
    "\n",
    "Using your encounter variable within a big while-loop, modify the above code so that input is repeatedly requested from the user until they input one of the birds in our rarebirds dictionary.\n",
    "\n",
    "Hint: start the encounter by making encounter’s value True. Make encounter’s value False within the nested if, elif and else statements."
   ]
  },
  {
   "cell_type": "code",
   "execution_count": 11,
   "id": "7233dc69",
   "metadata": {},
   "outputs": [
    {
     "name": "stdout",
     "output_type": "stream",
     "text": [
      "What do you see?tiger\n",
      "that’s not one of the birds we’re looking for.\n",
      "What do you see?giant eagle\n",
      "this is one of the birds we’re looking for!\n",
      "Where do you see it? Input the correct code.111\n",
      "So you've seen a giant eagle In the canopy directly above our heads. My goodness.\n",
      "Aggressive: Back Away and Cover our Heads\n",
      "We need to photograph the bird at In the canopy directly above our heads.\n"
     ]
    }
   ],
   "source": [
    "encounter = True\n",
    "while encounter:\n",
    "    sighting = input('What do you see?').lower()\n",
    "    rarebirdsList = [bird.lower() for bird in rarebirds.keys()]\n",
    "    if sighting in rarebirdsList:\n",
    "        print('this is one of the birds we’re looking for!')\n",
    "        \n",
    "        code = input('Where do you see it? Input the correct code.')\n",
    "        location = codes[code]\n",
    "        print(\"So you've seen a\", sighting, location, \"My goodness.\")\n",
    "    \n",
    "        for bird in rarebirds:\n",
    "            if sighting == bird.lower():\n",
    "                if rarebirds[bird]['Aggressive']:\n",
    "                    print(\"Aggressive:\", actions[0], \"and\", actions[1])\n",
    "                    print(\"We need to photograph the bird at\", location)\n",
    "                    encounter = False\n",
    "                elif rarebirds[bird]['Endangered']:\n",
    "                    print(\"Endangered:\", actions[0])\n",
    "                    print(\"We need to photograph the bird at\", location)\n",
    "                    encounter = False\n",
    "                else:\n",
    "                    print(\"We need to photograph the ultra rare bird at\", location)\n",
    "                    encounter = False\n",
    "        \n",
    "    else:\n",
    "        print('that’s not one of the birds we’re looking for.')\n",
    "        "
   ]
  }
 ],
 "metadata": {
  "kernelspec": {
   "display_name": "Python 3 (ipykernel)",
   "language": "python",
   "name": "python3"
  },
  "language_info": {
   "codemirror_mode": {
    "name": "ipython",
    "version": 3
   },
   "file_extension": ".py",
   "mimetype": "text/x-python",
   "name": "python",
   "nbconvert_exporter": "python",
   "pygments_lexer": "ipython3",
   "version": "3.9.7"
  }
 },
 "nbformat": 4,
 "nbformat_minor": 5
}
